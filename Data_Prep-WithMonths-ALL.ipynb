{
 "cells": [
  {
   "cell_type": "code",
   "execution_count": null,
   "id": "2bd80bce",
   "metadata": {},
   "outputs": [],
   "source": [
    "import pandas as pd\n",
    "\n",
    "#-----------------ozone and pm2 data\n",
    "\n",
    "df_oz = pd.read_csv('ozone_2011_2020.csv')\n",
    "df_pm2 = pd.read_csv('pm2_2011_2020.csv')\n",
    "\n",
    "\n",
    "df_oz = df_oz[[\"dates\",\"omean\",'aqi']]\n",
    "df_pm2 = df_pm2[[\"dates\",\"pmean\"]] \n",
    "\n",
    "df_oz[\"dates\"]  = pd.to_datetime(df_oz[\"dates\"])\n",
    "df_pm2[\"dates\"]  = pd.to_datetime(df_pm2[\"dates\"])\n",
    "\n",
    "\n",
    "date_range = pd.date_range(start = '1/1/2011', end = '12/31/2020')\n",
    "df = pd.DataFrame()\n",
    "df['dates'] = date_range\n",
    "\n",
    "\n",
    "df = df.merge(df_oz, how = 'left', left_on = 'dates', right_on = 'dates')\n",
    "df = df.merge(df_pm2, how = 'left', left_on = 'dates', right_on = 'dates')\n",
    "\n",
    "df = df.fillna(method='ffill')\n",
    "#df.drop(['dates_x','dates_y'], inplace=True, axis=1)\n",
    "\n",
    "df.to_csv('allPollution_2011_2020.csv',encoding='utf-8',index=False)\n",
    "\n",
    "\n",
    "#-------weather data\n",
    "df_weather = pd.read_csv('WeatherData_2011_2020.csv')\n",
    "\n",
    "df_weather = df_weather[['datetime','temp', 'humidity', 'precip', 'windspeed']]\n",
    "df_weather['datetime'] = pd.to_datetime(df_weather['datetime'])\n",
    "\n",
    "df_all = df_weather.merge(df, how = 'right', left_on = 'datetime', right_on = 'dates')\n",
    "\n",
    "df_all['Season'] = ((df_all['dates'].dt.month).floordiv(3)).mod(4)\n",
    "df_all.drop(['dates'],inplace= True, axis = 1)\n",
    "\n",
    "df_all.to_csv('WeatherAndPollution_2011_2020.csv',encoding='utf-8',index=False)\n",
    "\n",
    "\n",
    "\n",
    "print(\"done\")"
   ]
  }
 ],
 "metadata": {
  "kernelspec": {
   "display_name": "Python 3 (ipykernel)",
   "language": "python",
   "name": "python3"
  },
  "language_info": {
   "codemirror_mode": {
    "name": "ipython",
    "version": 3
   },
   "file_extension": ".py",
   "mimetype": "text/x-python",
   "name": "python",
   "nbconvert_exporter": "python",
   "pygments_lexer": "ipython3",
   "version": "3.11.3"
  },
  "varInspector": {
   "cols": {
    "lenName": 16,
    "lenType": 16,
    "lenVar": 40
   },
   "kernels_config": {
    "python": {
     "delete_cmd_postfix": "",
     "delete_cmd_prefix": "del ",
     "library": "var_list.py",
     "varRefreshCmd": "print(var_dic_list())"
    },
    "r": {
     "delete_cmd_postfix": ") ",
     "delete_cmd_prefix": "rm(",
     "library": "var_list.r",
     "varRefreshCmd": "cat(var_dic_list()) "
    }
   },
   "types_to_exclude": [
    "module",
    "function",
    "builtin_function_or_method",
    "instance",
    "_Feature"
   ],
   "window_display": false
  }
 },
 "nbformat": 4,
 "nbformat_minor": 5
}
